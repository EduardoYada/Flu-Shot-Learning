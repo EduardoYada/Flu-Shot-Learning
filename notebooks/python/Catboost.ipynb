{
 "cells": [
  {
   "cell_type": "markdown",
   "metadata": {},
   "source": [
    "# Imports"
   ]
  },
  {
   "cell_type": "code",
   "execution_count": 1,
   "metadata": {
    "ExecuteTime": {
     "end_time": "2020-11-20T16:27:29.855096Z",
     "start_time": "2020-11-20T16:27:28.844265Z"
    },
    "scrolled": true
   },
   "outputs": [],
   "source": [
    "import matplotlib.pyplot as plt\n",
    "import seaborn as sns\n",
    "import pandas as pd\n",
    "import numpy as np\n",
    "\n",
    "from catboost import CatBoostClassifier, Pool\n",
    "\n",
    "from sklearn.model_selection import train_test_split\n",
    "from sklearn.base import BaseEstimator, TransformerMixin\n",
    "from sklearn.compose import ColumnTransformer, make_column_transformer\n",
    "from sklearn.preprocessing import FunctionTransformer, OrdinalEncoder\n",
    "from sklearn.impute import SimpleImputer\n",
    "from sklearn.pipeline import make_pipeline, Pipeline"
   ]
  },
  {
   "cell_type": "markdown",
   "metadata": {},
   "source": [
    "# Load dataset"
   ]
  },
  {
   "cell_type": "code",
   "execution_count": 2,
   "metadata": {
    "ExecuteTime": {
     "end_time": "2020-11-20T16:27:30.506081Z",
     "start_time": "2020-11-20T16:27:30.411330Z"
    }
   },
   "outputs": [],
   "source": [
    "X = pd.read_csv(\"../../data/training_set_features.csv\").drop(\"respondent_id\", axis=1)\n",
    "Y = pd.read_csv(\"../../data/training_set_labels.csv\").drop(\"respondent_id\", axis=1)\n",
    "\n",
    "features = list(X)\n",
    "targets = list(Y)\n",
    "\n",
    "target = targets[0]"
   ]
  },
  {
   "cell_type": "code",
   "execution_count": 3,
   "metadata": {
    "ExecuteTime": {
     "end_time": "2020-11-20T16:27:30.943077Z",
     "start_time": "2020-11-20T16:27:30.831375Z"
    }
   },
   "outputs": [],
   "source": [
    "X_train, X_test, y_train, y_test = train_test_split(\n",
    "    X, Y, test_size=0.3, random_state=42, shuffle=True,\n",
    "    stratify=Y)\n",
    "\n",
    "for df in [X_train, X_test, y_train, y_test]:\n",
    "    df.reset_index(drop=True, inplace=True)\n",
    "\n",
    "cat_features = [i for i in range(len(features))]\n",
    "text_features = list(X_train.select_dtypes(object))"
   ]
  },
  {
   "cell_type": "markdown",
   "metadata": {},
   "source": [
    "# Preprocessing"
   ]
  },
  {
   "cell_type": "code",
   "execution_count": 4,
   "metadata": {
    "ExecuteTime": {
     "end_time": "2020-11-20T16:27:31.439701Z",
     "start_time": "2020-11-20T16:27:31.433686Z"
    }
   },
   "outputs": [],
   "source": [
    "def to_str(x):\n",
    "    return x.astype(str)\n",
    "\n",
    "\n",
    "class FeatureSelector(BaseEstimator, TransformerMixin):\n",
    "\n",
    "    def __init__(self, feature_names=None):\n",
    "        self.feature_names = feature_names \n",
    "\n",
    "    def fit(self, X, y = None):\n",
    "        return self \n",
    "\n",
    "    def transform(self, X, y = None):\n",
    "        if self.feature_names is None:\n",
    "            return X\n",
    "        return X[self.feature_names]\n",
    "    \n",
    "    \n",
    "class DataFrameTransformer(BaseEstimator, TransformerMixin):\n",
    "\n",
    "    def __init__(self, feature_names=None):\n",
    "        self.feature_names = feature_names \n",
    "\n",
    "    def fit(self, X, y = None):\n",
    "        return self \n",
    "\n",
    "    def transform(self, X, y = None):\n",
    "        return pd.DataFrame(X, columns=self.feature_names)"
   ]
  },
  {
   "cell_type": "code",
   "execution_count": 5,
   "metadata": {
    "ExecuteTime": {
     "end_time": "2020-11-20T16:27:32.323986Z",
     "start_time": "2020-11-20T16:27:31.825593Z"
    }
   },
   "outputs": [],
   "source": [
    "selected_features = list(features)\n",
    "\n",
    "pipeline = Pipeline(steps=[\n",
    "    (\n",
    "        'preprocessing',\n",
    "        Pipeline(steps=[\n",
    "            ('feature_selector', FeatureSelector(selected_features)),\n",
    "            ('fillna', SimpleImputer(strategy='constant', fill_value=\"nan\", copy=False)),\n",
    "            ('to_str', FunctionTransformer(to_str)),\n",
    "            ('to_df', DataFrameTransformer(selected_features))\n",
    "        ])\n",
    "    )\n",
    "])\n",
    "\n",
    "pipeline.fit(X_train)\n",
    "X_train_processed = pipeline.transform(X_train)\n",
    "X_test_processed = pipeline.transform(X_test)"
   ]
  },
  {
   "cell_type": "markdown",
   "metadata": {},
   "source": [
    "# Classifier Chain"
   ]
  },
  {
   "cell_type": "code",
   "execution_count": 69,
   "metadata": {
    "ExecuteTime": {
     "end_time": "2020-11-20T21:37:41.413129Z",
     "start_time": "2020-11-20T21:37:41.394152Z"
    }
   },
   "outputs": [],
   "source": [
    "from sklearn.base import BaseEstimator, TransformerMixin\n",
    "from sklearn.utils.multiclass import unique_labels\n",
    "from sklearn.metrics import roc_auc_score, roc_curve\n",
    "from sklearn.multioutput import ClassifierChain\n",
    "\n",
    "import itertools\n",
    "\n",
    "\n",
    "class CatboostClassifierTuned(BaseEstimator):\n",
    "    def __init__(\n",
    "        self,\n",
    "        cat_features=None,\n",
    "        parameters_grid=None,\n",
    "        **kwargs\n",
    "    ):\n",
    "        \"\"\"\n",
    "        A Custom BaseEstimator that can switch between classifiers.\n",
    "        :param estimator: sklearn object - The classifier\n",
    "        \"\"\"\n",
    "        self.estimator = CatBoostClassifier(**kwargs)\n",
    "        self.parameters_grid = parameters_grid\n",
    "        self.cat_features = cat_features\n",
    "\n",
    "    def fit(self, X, y=None, plot=False, **kwargs):\n",
    "        self.classes_ = unique_labels(y)\n",
    "        self.features = list(X)\n",
    "        self.target = y.name\n",
    "        train_pool = Pool(\n",
    "            data=X,\n",
    "            label=y,\n",
    "            cat_features=self.cat_features\n",
    "        )\n",
    "\n",
    "        if self.parameters_grid is not None:\n",
    "            print(\"HP tuning fit\")\n",
    "            randomized_search_result = self.estimator.randomized_search(self.parameters_grid,\n",
    "                                                                        X=train_pool,\n",
    "                                                                        plot=plot,\n",
    "                                                                        verbose=False)\n",
    "        else:\n",
    "            print(\"Regular Fit\")\n",
    "            self.estimator.fit(train_pool)\n",
    "\n",
    "        return self\n",
    "\n",
    "    def predict(self, X, y=None):\n",
    "        pool = Pool(\n",
    "            data=X,\n",
    "            label=y,\n",
    "            cat_features=self.cat_features\n",
    "        )\n",
    "        return self.estimator.predict(pool)\n",
    "\n",
    "    def predict_proba(self, X, y=None):\n",
    "        pool = Pool(\n",
    "            data=X,\n",
    "            label=y,\n",
    "            cat_features=self.cat_features\n",
    "        )\n",
    "        return self.estimator.predict_proba(pool)[:, 1]\n",
    "\n",
    "    def score(self, X, y):\n",
    "        predictions = self.predict_proba(X, y)\n",
    "        return roc_auc_score(y, predictions)\n",
    "\n",
    "    def eval_metrics(self, X, y, metrics=['Logloss', 'AUC']):\n",
    "        pool = Pool(\n",
    "            data=X,\n",
    "            label=y,\n",
    "            cat_features=self.cat_features\n",
    "        )\n",
    "\n",
    "        metrics = model.eval_metrics(\n",
    "            data=pool,\n",
    "            metrics=['Logloss', 'AUC'],\n",
    "            ntree_start=0,\n",
    "            ntree_end=0,\n",
    "            eval_period=1,\n",
    "            plot=True\n",
    "        )\n",
    "        return metrics\n",
    "\n",
    "    def get_model_info(self):\n",
    "        return {\"num_features\": len(self.features),\n",
    "                \"target\": self.target}\n",
    "\n",
    "\n",
    "class CatboostClassifierChain(BaseEstimator):\n",
    "    def __init__(self, order, cat_features=None, **kwargs):\n",
    "        self.order = order\n",
    "        self.num_models = len(order)\n",
    "        self.cat_features = cat_features\n",
    "        self.chain = [CatboostClassifierTuned(\n",
    "            cat_features=cat_features, **kwargs) for _ in range(len(order))]\n",
    "\n",
    "#     def fit(self, X, y):\n",
    "#         self.y_columns = list(y)\n",
    "\n",
    "#         for index in range(self.num_models):\n",
    "#             as_features = self.order[:index]\n",
    "#             current_target = self.order[index]\n",
    "#             X_temp = pd.concat([X, y.iloc[:, as_features]],\n",
    "#                                axis=1)\n",
    "#             self.chain[index].fit(X=X_temp, y=y.iloc[:, current_target])\n",
    "#         return self\n",
    "\n",
    "    def fit(self, X, y):\n",
    "        self.y_columns = list(y)\n",
    "        X_temp = X.copy()\n",
    "        for index in range(self.num_models):\n",
    "            pred_name = self.y_columns[self.order[index]]\n",
    "            current_target = self.order[index]\n",
    "            self.chain[index].fit(X=X_temp, y=y.iloc[:, current_target])\n",
    "            X_temp[pred_name] = self.chain[index].predict_proba(X_temp)\n",
    "        return self\n",
    "\n",
    "    def predict_proba(self, X, y=None):\n",
    "        X_temp = X.copy()\n",
    "        for index in range(self.num_models):\n",
    "            pred_name = self.y_columns[self.order[index]]\n",
    "            X_temp[pred_name] = self.chain[index].predict_proba(X_temp)\n",
    "        self.X_temp = X_temp\n",
    "        return X_temp.iloc[:, -self.num_models:][self.y_columns]\n",
    "\n",
    "    def score(self, X, y):\n",
    "        predictions = self.predict_proba(X, y)\n",
    "        return roc_auc_score(y, predictions)\n",
    "\n",
    "\n",
    "class CatboostClassifierChainEnsemble(BaseEstimator):\n",
    "    def __init__(self, cat_features=[], orders=[], bootstrap_samples=1, bootstrap_size=1, **kwargs):\n",
    "        \"\"\"\n",
    "        A Custom BaseEstimator that can switch between classifiers.\n",
    "        :param estimator: sklearn object - The classifier\n",
    "        \"\"\"\n",
    "        self.cat_features = cat_features\n",
    "        self.orders = orders\n",
    "        self.kwargs = kwargs\n",
    "        self.bootstrap_samples = bootstrap_samples\n",
    "        self.bootstrap_size = bootstrap_size\n",
    "\n",
    "    def build_chains(self):\n",
    "        self.chains = [CatboostClassifierChain(**self.kwargs,\n",
    "                                               cat_features=self.cat_features,\n",
    "                                               order=order)\n",
    "                       for order in self.orders for _ in range(self.bootstrap_samples)]\n",
    "\n",
    "        return self\n",
    "\n",
    "    def fit(self, X, y=None, **kwargs):\n",
    "        self.classes_ = unique_labels(y)\n",
    "\n",
    "        if len(self.orders) == 0:\n",
    "            self.orders = list(\n",
    "                map(list, list(itertools.permutations([i for i in range(y.shape[1])]))))\n",
    "\n",
    "        self.build_chains()\n",
    "\n",
    "        for chain in self.chains:\n",
    "            rows = np.random.binomial(1, self.bootstrap_size, size=len(X)).astype('bool')\n",
    "            subset_X = X[rows]\n",
    "            subset_y = y[rows]\n",
    "            chain.fit(subset_X, subset_y)\n",
    "\n",
    "        return self\n",
    "\n",
    "    def predict(self, X, y=None):\n",
    "        return self.estimator.predict(X)\n",
    "\n",
    "    def predict_proba(self, X, y=None):\n",
    "        Y_pred_chains = np.array([chain.predict_proba(X).values for chain in\n",
    "                                  self.chains])\n",
    "\n",
    "        Y_pred_ensemble = Y_pred_chains.mean(axis=0)\n",
    "        return Y_pred_ensemble\n",
    "\n",
    "    def score(self, X, y):\n",
    "        predictions = self.predict_proba(X, y)\n",
    "        return roc_auc_score(y, predictions)"
   ]
  },
  {
   "cell_type": "code",
   "execution_count": 62,
   "metadata": {
    "ExecuteTime": {
     "end_time": "2020-11-20T21:36:17.617655Z",
     "start_time": "2020-11-20T21:36:17.612669Z"
    }
   },
   "outputs": [],
   "source": [
    "grid = {'learning_rate': [0.03],\n",
    "        'depth': [4, 6, 10],\n",
    "        'l2_leaf_reg': [1, 3, 5, 7, 9],\n",
    "        'grow_policy': ['Lossguide', 'Depthwise', 'SymmetricTree']}\n",
    "\n",
    "model_params = {\"cat_features\": cat_features,\n",
    "                \"parameters_grid\": None,\n",
    "                \"iterations\": 2000,\n",
    "                \"task_type\": \"GPU\",\n",
    "                \"devices\": '0:1',\n",
    "                \"custom_loss\": ['AUC:hints=skip_train~false'],\n",
    "                \"early_stopping_rounds\": 50,\n",
    "                \"logging_level\": 'Silent'}"
   ]
  },
  {
   "cell_type": "code",
   "execution_count": 8,
   "metadata": {
    "ExecuteTime": {
     "end_time": "2020-11-20T16:35:53.368026Z",
     "start_time": "2020-11-20T16:27:33.352488Z"
    }
   },
   "outputs": [
    {
     "name": "stdout",
     "output_type": "stream",
     "text": [
      "HP tuning fit\n"
     ]
    },
    {
     "data": {
      "text/plain": [
       "0.8674511030259997"
      ]
     },
     "execution_count": 8,
     "metadata": {},
     "output_type": "execute_result"
    }
   ],
   "source": [
    "model_seasonal = CatboostClassifierTuned(**model_params)\n",
    "\n",
    "model_seasonal.fit(X_train_processed, y_train['seasonal_vaccine'])\n",
    "test_predictions_seasonal = model_seasonal.predict_proba(X_test_processed, y=y_test['seasonal_vaccine'])\n",
    "model_seasonal.score(X_test_processed, y_test['seasonal_vaccine'])"
   ]
  },
  {
   "cell_type": "code",
   "execution_count": 9,
   "metadata": {
    "ExecuteTime": {
     "end_time": "2020-11-20T16:42:41.419631Z",
     "start_time": "2020-11-20T16:35:53.369023Z"
    }
   },
   "outputs": [
    {
     "name": "stdout",
     "output_type": "stream",
     "text": [
      "HP tuning fit\n"
     ]
    },
    {
     "data": {
      "text/plain": [
       "0.8705004840186339"
      ]
     },
     "execution_count": 9,
     "metadata": {},
     "output_type": "execute_result"
    }
   ],
   "source": [
    "model_h1n1 = CatboostClassifierTuned(**model_params)\n",
    "\n",
    "model_h1n1.fit(X_train_processed, y_train['h1n1_vaccine'])\n",
    "test_predictions_h1n1 = model_h1n1.predict_proba(X_test_processed, y=y_test['h1n1_vaccine'])\n",
    "model_h1n1.score(X_test_processed, y_test['h1n1_vaccine'])"
   ]
  },
  {
   "cell_type": "code",
   "execution_count": 10,
   "metadata": {
    "ExecuteTime": {
     "end_time": "2020-11-20T16:42:41.429857Z",
     "start_time": "2020-11-20T16:42:41.420604Z"
    },
    "scrolled": false
   },
   "outputs": [
    {
     "name": "stdout",
     "output_type": "stream",
     "text": [
      "0.8689757935223168\n"
     ]
    }
   ],
   "source": [
    "br_predictions = pd.DataFrame({\"h1n1_vaccine\": test_predictions_h1n1,\n",
    "                               \"seasonal_vaccine\": test_predictions_seasonal})\n",
    "\n",
    "print(roc_auc_score(y_test, br_predictions))"
   ]
  },
  {
   "cell_type": "code",
   "execution_count": 11,
   "metadata": {
    "ExecuteTime": {
     "end_time": "2020-11-20T17:10:13.690695Z",
     "start_time": "2020-11-20T16:42:41.430826Z"
    },
    "scrolled": false
   },
   "outputs": [
    {
     "name": "stdout",
     "output_type": "stream",
     "text": [
      "HP tuning fit\n",
      "HP tuning fit\n",
      "HP tuning fit\n",
      "HP tuning fit\n"
     ]
    },
    {
     "data": {
      "text/plain": [
       "0.8670489487971502"
      ]
     },
     "execution_count": 11,
     "metadata": {},
     "output_type": "execute_result"
    }
   ],
   "source": [
    "model_ensemble = CatboostClassifierChainEnsemble(**model_params)\n",
    "\n",
    "model_ensemble.fit(X_train_processed, y_train)\n",
    "model_ensemble.score(X_test_processed, y_test)"
   ]
  },
  {
   "cell_type": "code",
   "execution_count": 12,
   "metadata": {
    "ExecuteTime": {
     "end_time": "2020-11-20T17:10:14.079622Z",
     "start_time": "2020-11-20T17:10:13.691665Z"
    }
   },
   "outputs": [
    {
     "name": "stdout",
     "output_type": "stream",
     "text": [
      "0.8633583253857825\n",
      "0.8662856129571129\n"
     ]
    }
   ],
   "source": [
    "for model_chain in model_ensemble.chains:\n",
    "    print(model_chain.score(X_test_processed, y_test))"
   ]
  },
  {
   "cell_type": "code",
   "execution_count": 13,
   "metadata": {
    "ExecuteTime": {
     "end_time": "2020-11-20T17:10:14.618783Z",
     "start_time": "2020-11-20T17:10:14.080636Z"
    }
   },
   "outputs": [
    {
     "data": {
      "image/png": "[encoded data removed]",
      "text/plain": [
       "<Figure size 504x252 with 2 Axes>"
      ]
     },
     "metadata": {
      "needs_background": "light"
     },
     "output_type": "display_data"
    }
   ],
   "source": [
    "def plot_roc(y_true, y_score, label_name, ax):\n",
    "    fpr, tpr, thresholds = roc_curve(y_true, y_score)\n",
    "    ax.plot(fpr, tpr)\n",
    "    ax.plot([0, 1], [0, 1], color='grey', linestyle='--')\n",
    "    ax.set_ylabel('TPR')\n",
    "    ax.set_xlabel('FPR')\n",
    "    ax.set_title(\n",
    "        f\"{label_name}: AUC = {roc_auc_score(y_true, y_score):.4f}\"\n",
    "    )\n",
    "    \n",
    "fig, ax = plt.subplots(1, 2, figsize=(7, 3.5))\n",
    "\n",
    "ensemble_predicts = model_ensemble.predict_proba(X_test_processed)\n",
    "\n",
    "plot_roc(\n",
    "    y_test['h1n1_vaccine'], \n",
    "    ensemble_predicts[:, 0], \n",
    "    'h1n1_vaccine',\n",
    "    ax=ax[0]\n",
    ")\n",
    "plot_roc(\n",
    "    y_test['seasonal_vaccine'], \n",
    "    ensemble_predicts[:, 1], \n",
    "    'seasonal_vaccine',\n",
    "    ax=ax[1]\n",
    ")\n",
    "fig.tight_layout()"
   ]
  },
  {
   "cell_type": "markdown",
   "metadata": {},
   "source": [
    "# Feature Importance"
   ]
  },
  {
   "cell_type": "code",
   "execution_count": 14,
   "metadata": {
    "ExecuteTime": {
     "end_time": "2020-11-20T17:10:15.633086Z",
     "start_time": "2020-11-20T17:10:14.619781Z"
    }
   },
   "outputs": [
    {
     "data": {
      "image/png": "[encoded data removed]",
      "text/plain": [
       "<Figure size 720x720 with 1 Axes>"
      ]
     },
     "metadata": {
      "needs_background": "light"
     },
     "output_type": "display_data"
    }
   ],
   "source": [
    "def ensemble_feature_importance(model_ensemble):\n",
    "\n",
    "    grouped_importance = pd.DataFrame()\n",
    "    for model_chain in model_ensemble.chains:\n",
    "        for model in model_chain.chain:\n",
    "            single_importance = model.estimator.get_feature_importance(\n",
    "                prettified=True)\n",
    "\n",
    "            grouped_importance = pd.concat(\n",
    "                [grouped_importance, single_importance], axis=0)\n",
    "\n",
    "    avg_importance = grouped_importance.groupby(\"Feature Id\")[\"Importances\"].mean().sort_values()\n",
    "    fig, ax = plt.subplots(figsize=(10, 10))\n",
    "    sns.barplot(data=grouped_importance, x=\"Importances\", y=\"Feature Id\", ax=ax,\n",
    "                order=avg_importance.index)\n",
    "    \n",
    "    return pd.DataFrame(avg_importance)\n",
    "\n",
    "importance_df = ensemble_feature_importance(model_ensemble)"
   ]
  },
  {
   "cell_type": "markdown",
   "metadata": {},
   "source": [
    "# Full Pipeline"
   ]
  },
  {
   "cell_type": "code",
   "execution_count": 64,
   "metadata": {
    "ExecuteTime": {
     "end_time": "2020-11-20T21:36:43.053059Z",
     "start_time": "2020-11-20T21:36:43.048070Z"
    }
   },
   "outputs": [],
   "source": [
    "def build_pipeline(selected_features, model_params):\n",
    "    pipeline = Pipeline(steps=[\n",
    "        (\n",
    "            'preprocessing',\n",
    "            Pipeline(steps=[\n",
    "                ('feature_selector', FeatureSelector(selected_features)),\n",
    "                ('fillna', SimpleImputer(strategy='constant', fill_value=\"nan\", copy=False)),\n",
    "                ('to_str', FunctionTransformer(to_str)),\n",
    "                ('to_df', DataFrameTransformer(selected_features))\n",
    "            ])\n",
    "        ),\n",
    "        (\n",
    "            'estimator', CatboostClassifierChainEnsemble(**model_params))\n",
    "    ])\n",
    "    return pipeline"
   ]
  },
  {
   "cell_type": "code",
   "execution_count": 65,
   "metadata": {
    "ExecuteTime": {
     "end_time": "2020-11-20T21:36:43.304951Z",
     "start_time": "2020-11-20T21:36:43.300962Z"
    }
   },
   "outputs": [],
   "source": [
    "model_params = {\"cat_features\": selected_features,\n",
    "                \"parameters_grid\": None,\n",
    "                \"bootstrap_samples\": 1,\n",
    "                \"bootstrap_size\": 1,\n",
    "                \"iterations\": 2000,\n",
    "                \"task_type\": \"GPU\",\n",
    "                \"devices\": '0:1',\n",
    "                \"custom_loss\": ['AUC:hints=skip_train~false'],\n",
    "                \"early_stopping_rounds\": 50,\n",
    "                \"logging_level\": 'Silent'}"
   ]
  },
  {
   "cell_type": "code",
   "execution_count": 52,
   "metadata": {
    "ExecuteTime": {
     "end_time": "2020-11-20T19:26:06.581157Z",
     "start_time": "2020-11-20T18:58:03.071877Z"
    }
   },
   "outputs": [
    {
     "name": "stdout",
     "output_type": "stream",
     "text": [
      "HP tuning fit\n",
      "HP tuning fit\n",
      "HP tuning fit\n",
      "HP tuning fit\n",
      "Train AUC: 0.9482718784571409\n",
      "Test AUC: 0.867358640524917\n"
     ]
    }
   ],
   "source": [
    "model_params['parameters_grid'] = grid\n",
    "\n",
    "selected_features = list(features)\n",
    "\n",
    "pipeline = build_pipeline(selected_features, model_params)\n",
    "\n",
    "pipeline.fit(X_train, y_train)\n",
    "X_train_predictions = pipeline.predict_proba(X_train)\n",
    "X_test_predictions = pipeline.predict_proba(X_test)\n",
    "\n",
    "print(f\"Train AUC: {pipeline.score(X_train, y_train)}\")\n",
    "print(f\"Test AUC: {pipeline.score(X_test, y_test)}\")\n",
    "\n",
    "# pipeline.fit(X, Y)\n",
    "\n",
    "None"
   ]
  },
  {
   "cell_type": "code",
   "execution_count": 70,
   "metadata": {
    "ExecuteTime": {
     "end_time": "2020-11-20T23:00:21.102421Z",
     "start_time": "2020-11-20T21:37:44.553354Z"
    }
   },
   "outputs": [
    {
     "name": "stdout",
     "output_type": "stream",
     "text": [
      "HP tuning fit\n",
      "HP tuning fit\n",
      "HP tuning fit\n",
      "HP tuning fit\n",
      "HP tuning fit\n",
      "HP tuning fit\n",
      "HP tuning fit\n",
      "HP tuning fit\n",
      "HP tuning fit\n",
      "HP tuning fit\n",
      "HP tuning fit\n",
      "HP tuning fit\n",
      "Train AUC: 0.9380559912642253\n",
      "Test AUC: 0.8688395085729843\n"
     ]
    }
   ],
   "source": [
    "model_params.update({\"parameters_grid\": grid,\n",
    "                     \"bootstrap_size\": 0.8,\n",
    "                     \"bootstrap_samples\": 3})\n",
    "\n",
    "selected_features = list(features)\n",
    "\n",
    "pipeline = build_pipeline(selected_features, model_params)\n",
    "\n",
    "pipeline.fit(X_train, y_train)\n",
    "X_train_predictions = pipeline.predict_proba(X_train)\n",
    "X_test_predictions = pipeline.predict_proba(X_test)\n",
    "\n",
    "print(f\"Train AUC: {pipeline.score(X_train, y_train)}\")\n",
    "print(f\"Test AUC: {pipeline.score(X_test, y_test)}\")\n",
    "\n",
    "# pipeline.fit(X, Y)\n",
    "\n",
    "None"
   ]
  },
  {
   "cell_type": "markdown",
   "metadata": {},
   "source": [
    "# Submission"
   ]
  },
  {
   "cell_type": "code",
   "execution_count": 71,
   "metadata": {
    "ExecuteTime": {
     "end_time": "2020-11-20T23:22:18.876854Z",
     "start_time": "2020-11-20T23:22:14.981152Z"
    }
   },
   "outputs": [],
   "source": [
    "X_holdout = pd.read_csv(\"../../data/test_set_features.csv\")\n",
    "\n",
    "holdout_predictions = pipeline.predict_proba(X_holdout.drop(\"respondent_id\", axis=1))"
   ]
  },
  {
   "cell_type": "code",
   "execution_count": 72,
   "metadata": {
    "ExecuteTime": {
     "end_time": "2020-11-20T23:22:18.972487Z",
     "start_time": "2020-11-20T23:22:18.877701Z"
    }
   },
   "outputs": [],
   "source": [
    "submission_df = pd.DataFrame(holdout_predictions, columns=['h1n1_vaccine', 'seasonal_vaccine'])\n",
    "submission_df['respondent_id'] = X_holdout['respondent_id']\n",
    "\n",
    "submission_df[['respondent_id', 'h1n1_vaccine', 'seasonal_vaccine']].to_csv(\"../submissions/catboost_classifier_chain.csv\", index=False)"
   ]
  },
  {
   "cell_type": "code",
   "execution_count": null,
   "metadata": {},
   "outputs": [],
   "source": []
  }
 ],
 "metadata": {
  "kernelspec": {
   "display_name": "Python 3.6",
   "language": "python",
   "name": "py36"
  },
  "language_info": {
   "codemirror_mode": {
    "name": "ipython",
    "version": 3
   },
   "file_extension": ".py",
   "mimetype": "text/x-python",
   "name": "python",
   "nbconvert_exporter": "python",
   "pygments_lexer": "ipython3",
   "version": "3.7.9"
  },
  "toc": {
   "base_numbering": 1,
   "nav_menu": {},
   "number_sections": true,
   "sideBar": true,
   "skip_h1_title": false,
   "title_cell": "Table of Contents",
   "title_sidebar": "Contents",
   "toc_cell": false,
   "toc_position": {},
   "toc_section_display": true,
   "toc_window_display": false
  },
  "varInspector": {
   "cols": {
    "lenName": 16,
    "lenType": 16,
    "lenVar": 40
   },
   "kernels_config": {
    "python": {
     "delete_cmd_postfix": "",
     "delete_cmd_prefix": "del ",
     "library": "var_list.py",
     "varRefreshCmd": "print(var_dic_list())"
    },
    "r": {
     "delete_cmd_postfix": ") ",
     "delete_cmd_prefix": "rm(",
     "library": "var_list.r",
     "varRefreshCmd": "cat(var_dic_list()) "
    }
   },
   "types_to_exclude": [
    "module",
    "function",
    "builtin_function_or_method",
    "instance",
    "_Feature"
   ],
   "window_display": false
  }
 },
 "nbformat": 4,
 "nbformat_minor": 4
}
