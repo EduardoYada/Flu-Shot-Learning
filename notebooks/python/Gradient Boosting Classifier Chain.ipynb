{
 "cells": [
  {
   "cell_type": "markdown",
   "metadata": {},
   "source": [
    "# Imports"
   ]
  },
  {
   "cell_type": "code",
   "execution_count": 1,
   "metadata": {
    "ExecuteTime": {
     "end_time": "2020-11-17T22:18:09.760657Z",
     "start_time": "2020-11-17T22:18:08.792786Z"
    }
   },
   "outputs": [],
   "source": [
    "import matplotlib.pyplot as plt\n",
    "import seaborn as sns\n",
    "import pandas as pd\n",
    "import numpy as np\n",
    "\n",
    "from catboost import CatBoostClassifier, Pool\n",
    "\n",
    "from sklearn.model_selection import train_test_split, RandomizedSearchCV\n",
    "from sklearn.base import BaseEstimator, TransformerMixin\n",
    "from sklearn.compose import ColumnTransformer, make_column_transformer\n",
    "from sklearn.preprocessing import FunctionTransformer, OrdinalEncoder, OneHotEncoder\n",
    "from sklearn.experimental import enable_iterative_imputer\n",
    "from sklearn.impute import SimpleImputer, IterativeImputer\n",
    "from sklearn.pipeline import make_pipeline, Pipeline\n",
    "from sklearn.metrics import roc_auc_score\n",
    "from sklearn.ensemble import GradientBoostingClassifier\n",
    "from sklearn.multioutput import ClassifierChain\n",
    "from sklearn.utils.multiclass import unique_labels\n"
   ]
  },
  {
   "cell_type": "markdown",
   "metadata": {},
   "source": [
    "# Load dataset"
   ]
  },
  {
   "cell_type": "code",
   "execution_count": 2,
   "metadata": {
    "ExecuteTime": {
     "end_time": "2020-11-17T22:18:10.200976Z",
     "start_time": "2020-11-17T22:18:10.118162Z"
    }
   },
   "outputs": [],
   "source": [
    "X = pd.read_csv(\"../../data/training_set_features.csv\").drop(\"respondent_id\", axis=1)\n",
    "Y = pd.read_csv(\"../../data/training_set_labels.csv\").drop(\"respondent_id\", axis=1)\n",
    "\n",
    "features = list(X)\n",
    "targets = list(Y)\n",
    "\n",
    "target = targets[0]"
   ]
  },
  {
   "cell_type": "code",
   "execution_count": 3,
   "metadata": {
    "ExecuteTime": {
     "end_time": "2020-11-17T22:18:10.320855Z",
     "start_time": "2020-11-17T22:18:10.303900Z"
    }
   },
   "outputs": [],
   "source": [
    "X_train, X_test, y_train, y_test = train_test_split(X, Y, test_size=0.3, random_state=42)\n",
    "\n",
    "cat_features = [i for i in range(len(features))]\n",
    "nominal_features = list(X_train.select_dtypes(object))\n",
    "nominal_features_idx = [features.index(feature) for feature in nominal_features]\n",
    "ordinal_features_idx = [feature_idx for feature_idx in cat_features if feature_idx not in nominal_features_idx]"
   ]
  },
  {
   "cell_type": "markdown",
   "metadata": {},
   "source": [
    "# Preprocessing"
   ]
  },
  {
   "cell_type": "code",
   "execution_count": 4,
   "metadata": {
    "ExecuteTime": {
     "end_time": "2020-11-17T22:18:11.004014Z",
     "start_time": "2020-11-17T22:18:10.999998Z"
    }
   },
   "outputs": [],
   "source": [
    "def to_str(x):\n",
    "    return x.astype(str)\n",
    "\n",
    "def to_df(x):\n",
    "    return pd.DataFrame(x)"
   ]
  },
  {
   "cell_type": "code",
   "execution_count": 5,
   "metadata": {
    "ExecuteTime": {
     "end_time": "2020-11-17T22:18:12.301561Z",
     "start_time": "2020-11-17T22:18:11.280248Z"
    }
   },
   "outputs": [],
   "source": [
    "pipeline = Pipeline(steps=[\n",
    "    (\n",
    "        'preprocessing',\n",
    "        Pipeline(steps=[\n",
    "            ('fillna', SimpleImputer(strategy='constant', fill_value=\"nan\", copy=False)),\n",
    "            ('to_str', FunctionTransformer(to_str)),\n",
    "            ('encoder', ColumnTransformer(\n",
    "                [('nominal', OneHotEncoder(), nominal_features_idx),\n",
    "                 ('ordinal', OrdinalEncoder(), ordinal_features_idx)], remainder='passthrough')),\n",
    "            ('to_df', FunctionTransformer(to_df))\n",
    "        ])\n",
    "    )\n",
    "])\n",
    "\n",
    "pipeline.fit(X_train)\n",
    "X_train_processed = pipeline.transform(X_train)\n",
    "X_test_processed = pipeline.transform(X_test)"
   ]
  },
  {
   "cell_type": "markdown",
   "metadata": {},
   "source": [
    "# Training"
   ]
  },
  {
   "cell_type": "code",
   "execution_count": 6,
   "metadata": {
    "ExecuteTime": {
     "end_time": "2020-11-17T22:18:12.896188Z",
     "start_time": "2020-11-17T22:18:12.887185Z"
    }
   },
   "outputs": [],
   "source": [
    "class GradientBoostingClassifierTuned(BaseEstimator):\n",
    "    def __init__(\n",
    "        self,\n",
    "        estimator=GradientBoostingClassifier(),\n",
    "        parameters_grid=None\n",
    "    ):\n",
    "        \"\"\"\n",
    "        A Custom BaseEstimator that can switch between classifiers.\n",
    "        :param estimator: sklearn object - The classifier\n",
    "        \"\"\"\n",
    "\n",
    "        self.estimator = estimator\n",
    "        self.parameters_grid = parameters_grid\n",
    "\n",
    "    def fit(self, X, y=None, **kwargs):\n",
    "        self.classes_ = unique_labels(y)\n",
    "        random_search = RandomizedSearchCV(self.estimator,\n",
    "                                           self.parameters_grid,\n",
    "                                           n_jobs=-1,\n",
    "                                           n_iter=10,\n",
    "                                           scoring=\"roc_auc\")\n",
    "        random_search.fit(X, y)\n",
    "        self.estimator = random_search.best_estimator_\n",
    "        return self\n",
    "\n",
    "    def predict(self, X, y=None):\n",
    "        return self.estimator.predict(X)\n",
    "\n",
    "    def predict_proba(self, X):\n",
    "        return self.estimator.predict_proba(X)\n",
    "\n",
    "    def score(self, X, y):\n",
    "        return self.estimator.score(X, y)\n",
    "\n",
    "\n",
    "class ClassifierChainEnsemble(BaseEstimator):\n",
    "    def __init__(\n",
    "        self,\n",
    "        base_learner=GradientBoostingClassifier(),\n",
    "        orders=[]\n",
    "    ):\n",
    "        \"\"\"\n",
    "        A Custom BaseEstimator that can switch between classifiers.\n",
    "        :param estimator: sklearn object - The classifier\n",
    "        \"\"\"\n",
    "        self.chains = [ClassifierChain(base_learner, order=order, random_state=42)\n",
    "                       for order in orders]\n",
    "        self.parameters_grid = parameters_grid\n",
    "\n",
    "    def fit(self, X, y=None, **kwargs):\n",
    "        self.classes_ = unique_labels(y)\n",
    "\n",
    "        for chain in self.chains:\n",
    "            chain.fit(X, y)\n",
    "\n",
    "        return self\n",
    "\n",
    "    def predict(self, X, y=None):\n",
    "        return self.estimator.predict(X)\n",
    "\n",
    "    def predict_proba(self, X, y=None):\n",
    "        Y_pred_chains = np.array([chain.predict_proba(X) for chain in\n",
    "                                  self.chains])\n",
    "\n",
    "        Y_pred_ensemble = Y_pred_chains.mean(axis=0)\n",
    "        return Y_pred_ensemble\n",
    "\n",
    "    def score(self, X, y):\n",
    "        predictions = self.predict_proba(X, y)\n",
    "        return roc_auc_score(y, predictions)"
   ]
  },
  {
   "cell_type": "code",
   "execution_count": 7,
   "metadata": {
    "ExecuteTime": {
     "end_time": "2020-11-17T22:18:13.860903Z",
     "start_time": "2020-11-17T22:18:13.855917Z"
    }
   },
   "outputs": [],
   "source": [
    "parameters_grid = {\n",
    "    'learning_rate': [0.25, 0.1, 0.03],\n",
    "    'n_estimators': [100, 500, 1000],\n",
    "    'max_depth': np.linspace(1, 32, 32, endpoint=True),\n",
    "    'min_samples_split': np.linspace(0.01, 0.5, 10, endpoint=True),\n",
    "    'min_samples_leaf': np.linspace(0.01, 0.5, 10, endpoint=True)\n",
    "}"
   ]
  },
  {
   "cell_type": "code",
   "execution_count": 8,
   "metadata": {
    "ExecuteTime": {
     "end_time": "2020-11-17T22:46:19.356769Z",
     "start_time": "2020-11-17T22:18:16.068013Z"
    },
    "scrolled": true
   },
   "outputs": [
    {
     "data": {
      "text/plain": [
       "0.8637286709992643"
      ]
     },
     "execution_count": 8,
     "metadata": {},
     "output_type": "execute_result"
    }
   ],
   "source": [
    "orders = [[0, 1], [1, 0]]\n",
    "cce = ClassifierChainEnsemble(base_learner=GradientBoostingClassifierTuned(parameters_grid=parameters_grid),\n",
    "                              orders=orders)\n",
    "cce.fit(X_train_processed, y_train)\n",
    "\n",
    "Y_pred_ensemble = cce.predict_proba(X_test_processed, y_test)\n",
    "cce.score(X_test_processed, y_test)"
   ]
  },
  {
   "cell_type": "code",
   "execution_count": 14,
   "metadata": {
    "ExecuteTime": {
     "end_time": "2020-11-15T17:03:49.121809Z",
     "start_time": "2020-11-15T16:34:17.623766Z"
    },
    "scrolled": true
   },
   "outputs": [
    {
     "name": "stdout",
     "output_type": "stream",
     "text": [
      "AUC: 0.8634278808194351\n"
     ]
    }
   ],
   "source": [
    "orders = [[0, 1], [1, 0]]\n",
    "base_learner=GradientBoostingClassifierTuned(parameters_grid=parameters_grid)\n",
    "\n",
    "full_pipeline = Pipeline(steps=[\n",
    "    (\n",
    "        'preprocessing',\n",
    "        Pipeline(steps=[\n",
    "            ('fillna', SimpleImputer(strategy='constant', fill_value=\"nan\", copy=False)),\n",
    "            ('to_str', FunctionTransformer(to_str)),\n",
    "            ('encoder', ColumnTransformer(\n",
    "                [('nominal', OneHotEncoder(), nominal_features_idx),\n",
    "                 ('ordinal', OrdinalEncoder(), ordinal_features_idx)], remainder='passthrough')),\n",
    "            ('to_df', FunctionTransformer(to_df))\n",
    "        ])\n",
    "    ),\n",
    "    (\n",
    "        'model', ClassifierChainEnsemble(base_learner=base_learner,\n",
    "                                         orders=orders)\n",
    "    )\n",
    "])\n",
    "\n",
    "full_pipeline.fit(X_train, y_train)\n",
    "train_predictions = full_pipeline.predict_proba(X_train)\n",
    "test_predictions = full_pipeline.predict_proba(X_test)\n",
    "\n",
    "print(f\"AUC: {roc_auc_score(y_test, test_predictions)}\")"
   ]
  },
  {
   "cell_type": "markdown",
   "metadata": {},
   "source": [
    "# Feature Importance"
   ]
  },
  {
   "cell_type": "markdown",
   "metadata": {},
   "source": [
    "# Submission"
   ]
  },
  {
   "cell_type": "code",
   "execution_count": 82,
   "metadata": {
    "ExecuteTime": {
     "end_time": "2020-11-14T03:19:04.031832Z",
     "start_time": "2020-11-14T03:19:01.031381Z"
    }
   },
   "outputs": [],
   "source": [
    "X_holdout = pd.read_csv(\"../../data/test_set_features.csv\")\n",
    "X_holdout_processed = pipeline.transform(X_holdout.drop(\"respondent_id\", axis=1))\n",
    "\n",
    "holdout_predictions = cce.predict_proba(X_holdout_processed)"
   ]
  },
  {
   "cell_type": "code",
   "execution_count": 83,
   "metadata": {
    "ExecuteTime": {
     "end_time": "2020-11-14T03:19:08.110824Z",
     "start_time": "2020-11-14T03:19:08.009975Z"
    }
   },
   "outputs": [],
   "source": [
    "submission_df = pd.DataFrame(holdout_predictions, columns=['h1n1_vaccine', 'seasonal_vaccine'])\n",
    "submission_df['respondent_id'] = X_holdout['respondent_id']\n",
    "submission_df[['respondent_id', 'h1n1_vaccine', 'seasonal_vaccine']].to_csv(\"../submissions/classifier_chain_gb.csv\", index=False)"
   ]
  }
 ],
 "metadata": {
  "kernelspec": {
   "display_name": "ml",
   "language": "python",
   "name": "ml"
  },
  "language_info": {
   "codemirror_mode": {
    "name": "ipython",
    "version": 3
   },
   "file_extension": ".py",
   "mimetype": "text/x-python",
   "name": "python",
   "nbconvert_exporter": "python",
   "pygments_lexer": "ipython3",
   "version": "3.8.3"
  },
  "notify_time": "30",
  "toc": {
   "base_numbering": 1,
   "nav_menu": {},
   "number_sections": true,
   "sideBar": true,
   "skip_h1_title": false,
   "title_cell": "Table of Contents",
   "title_sidebar": "Contents",
   "toc_cell": false,
   "toc_position": {},
   "toc_section_display": true,
   "toc_window_display": false
  },
  "varInspector": {
   "cols": {
    "lenName": 16,
    "lenType": 16,
    "lenVar": 40
   },
   "kernels_config": {
    "python": {
     "delete_cmd_postfix": "",
     "delete_cmd_prefix": "del ",
     "library": "var_list.py",
     "varRefreshCmd": "print(var_dic_list())"
    },
    "r": {
     "delete_cmd_postfix": ") ",
     "delete_cmd_prefix": "rm(",
     "library": "var_list.r",
     "varRefreshCmd": "cat(var_dic_list()) "
    }
   },
   "types_to_exclude": [
    "module",
    "function",
    "builtin_function_or_method",
    "instance",
    "_Feature"
   ],
   "window_display": false
  }
 },
 "nbformat": 4,
 "nbformat_minor": 4
}
