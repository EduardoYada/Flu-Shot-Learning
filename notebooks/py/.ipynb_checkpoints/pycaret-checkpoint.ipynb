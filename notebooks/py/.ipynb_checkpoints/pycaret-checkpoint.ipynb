{
 "cells": [
  {
   "cell_type": "code",
   "execution_count": null,
   "metadata": {},
   "outputs": [],
   "source": [
    "import pandas as pd\n",
    "import seaborn as sns\n",
    "import pycaret as pyc\n",
    "from sklearn.model_selection import train_test_split\n",
    "from sklearn.preprocessing import LabelEncoder\n",
    "from sklearn.metrics import log_loss # use as custom input\n",
    "from pycaret.classification import *\n",
    "import numpy as np\n",
    "le = LabelEncoder()\n",
    "\n",
    "CLASSIFICATION_TARGET = 'h1n1_vaccine'\n",
    "\n",
    "data = pd.read_csv('../../data/training_set_features.csv', index_col=0)\n",
    "target = pd.read_csv('../../data/training_set_labels.csv')[CLASSIFICATION_TARGET]\n",
    "df = data.join(target, how='inner')\n",
    "# tdata.colurain, test = train_test_split(df, shuffle=False)data.columns\n",
    "df = df.astype('category')\n",
    "for col in df:\n",
    "    df[col] = df[col].cat.codes\n",
    "    \n",
    "cols = df.drop(CLASSIFICATION_TARGET, axis=1).columns"
   ]
  },
  {
   "cell_type": "code",
   "execution_count": null,
   "metadata": {},
   "outputs": [],
   "source": [
    "clf = setup(data=df, target=CLASSIFICATION_TARGET, session_id=123, normalize=True, fix_imbalance=True, html=True, feature_selection=True,\n",
    "            remove_outliers=True, remove_multicollinearity=True, remove_perfect_collinearity=True, multicollinearity_threshold=0.8,\n",
    "           log_profile=True, fold_strategy='stratifiedkfold')\n",
    "\n",
    "add_metric('logloss', 'LogLoss', log_loss, greater_is_better=False)"
   ]
  },
  {
   "cell_type": "markdown",
   "metadata": {},
   "source": [
    "### Fitting PyCaret models"
   ]
  },
  {
   "cell_type": "code",
   "execution_count": null,
   "metadata": {},
   "outputs": [],
   "source": [
    "np.random.seed(1)\n",
    "\n",
    "top10 = compare_models(n_select = 5, sort='AUC') \n",
    "# tune top 5 base models\n",
    "tuned_top10 = [tune_model(i, optimize='AUC', search_library='optuna') for i in top10]\n",
    "# ensemble top 5 tuned models\n",
    "# bagged_top5 = [ensemble_model(i) for i in tuned_top10]\n",
    "# blend top 5 base models \n",
    "#blender = blend_models(estimator_list = bagged_top5) \n",
    "# select best model tprin\n",
    "best = automl(optimize = 'AUC')\n",
    "tuned_top10"
   ]
  },
  {
   "cell_type": "code",
   "execution_count": null,
   "metadata": {},
   "outputs": [],
   "source": [
    "best"
   ]
  }
 ],
 "metadata": {
  "kernelspec": {
   "display_name": "Python 3",
   "language": "python",
   "name": "python3"
  },
  "language_info": {
   "codemirror_mode": {
    "name": "ipython",
    "version": 3
   },
   "file_extension": ".py",
   "mimetype": "text/x-python",
   "name": "python",
   "nbconvert_exporter": "python",
   "pygments_lexer": "ipython3",
   "version": "3.6.12"
  }
 },
 "nbformat": 4,
 "nbformat_minor": 4
}
